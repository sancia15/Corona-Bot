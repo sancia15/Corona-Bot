{
  "nbformat": 4,
  "nbformat_minor": 0,
  "metadata": {
    "colab": {
      "name": "coronachatbot.ipynb",
      "provenance": [],
      "collapsed_sections": [],
      "include_colab_link": true
    },
    "kernelspec": {
      "name": "python3",
      "display_name": "Python 3"
    }
  },
  "cells": [
    {
      "cell_type": "markdown",
      "metadata": {
        "id": "view-in-github",
        "colab_type": "text"
      },
      "source": [
        "<a href=\"https://colab.research.google.com/github/sancia15/Corona-Bot/blob/master/coronachatbot.ipynb\" target=\"_parent\"><img src=\"https://colab.research.google.com/assets/colab-badge.svg\" alt=\"Open In Colab\"/></a>"
      ]
    },
    {
      "cell_type": "code",
      "metadata": {
        "id": "GxfhrcvlegYc",
        "colab_type": "code",
        "outputId": "c59801ed-fff2-4f6c-b624-60fa1875a7d1",
        "colab": {
          "base_uri": "https://localhost:8080/",
          "height": 275
        }
      },
      "source": [
        "import numpy as np\n",
        "import pandas as pd\n",
        "\n",
        "#link of dataset\n",
        "pd.set_option('max_colwidth', 100)  # Increase column width\n",
        "data = pd.read_excel(\"Copy of WHO_FAQ.xlsx\", encoding='utf8')#datset link\n",
        "data.head()"
      ],
      "execution_count": 0,
      "outputs": [
        {
          "output_type": "execute_result",
          "data": {
            "text/html": [
              "<div>\n",
              "<style scoped>\n",
              "    .dataframe tbody tr th:only-of-type {\n",
              "        vertical-align: middle;\n",
              "    }\n",
              "\n",
              "    .dataframe tbody tr th {\n",
              "        vertical-align: top;\n",
              "    }\n",
              "\n",
              "    .dataframe thead th {\n",
              "        text-align: right;\n",
              "    }\n",
              "</style>\n",
              "<table border=\"1\" class=\"dataframe\">\n",
              "  <thead>\n",
              "    <tr style=\"text-align: right;\">\n",
              "      <th></th>\n",
              "      <th>Context</th>\n",
              "      <th>Answer</th>\n",
              "    </tr>\n",
              "  </thead>\n",
              "  <tbody>\n",
              "    <tr>\n",
              "      <th>0</th>\n",
              "      <td>What is a coronavirus?</td>\n",
              "      <td>Coronaviruses are a large family of viruses which may cause illness in animals or humans.</td>\n",
              "    </tr>\n",
              "    <tr>\n",
              "      <th>1</th>\n",
              "      <td>What is a coronavirus?</td>\n",
              "      <td>In humans, several coronaviruses are known to cause respiratory infections ranging from the comm...</td>\n",
              "    </tr>\n",
              "    <tr>\n",
              "      <th>2</th>\n",
              "      <td>What is COVID-19?</td>\n",
              "      <td>COVID-19 is the infectious disease caused by the most recently discovered coronavirus. This new ...</td>\n",
              "    </tr>\n",
              "    <tr>\n",
              "      <th>3</th>\n",
              "      <td>What are the symptoms of COVID-19?</td>\n",
              "      <td>The most common symptoms of COVID-19 are fever, tiredness, and dry cough. Some patients may have...</td>\n",
              "    </tr>\n",
              "    <tr>\n",
              "      <th>4</th>\n",
              "      <td>What are the symptoms of COVID-19?</td>\n",
              "      <td>Some people become infected but don’t develop any symptoms and don't feel unwell. Most people (a...</td>\n",
              "    </tr>\n",
              "  </tbody>\n",
              "</table>\n",
              "</div>"
            ],
            "text/plain": [
              "                              Context                                                                                               Answer\n",
              "0              What is a coronavirus?           Coronaviruses are a large family of viruses which may cause illness in animals or humans. \n",
              "1              What is a coronavirus?  In humans, several coronaviruses are known to cause respiratory infections ranging from the comm...\n",
              "2                   What is COVID-19?  COVID-19 is the infectious disease caused by the most recently discovered coronavirus. This new ...\n",
              "3  What are the symptoms of COVID-19?  The most common symptoms of COVID-19 are fever, tiredness, and dry cough. Some patients may have...\n",
              "4  What are the symptoms of COVID-19?  Some people become infected but don’t develop any symptoms and don't feel unwell. Most people (a..."
            ]
          },
          "metadata": {
            "tags": []
          },
          "execution_count": 4
        }
      ]
    },
    {
      "cell_type": "code",
      "metadata": {
        "id": "xr8FfbhsfBeh",
        "colab_type": "code",
        "outputId": "2b6262c4-6b2b-42be-c1fc-13efae96d7eb",
        "colab": {
          "base_uri": "https://localhost:8080/",
          "height": 36
        }
      },
      "source": [
        "\n",
        "!pip install -q tensorflow_text"
      ],
      "execution_count": 0,
      "outputs": [
        {
          "output_type": "stream",
          "text": [
            "\u001b[K     |████████████████████████████████| 3.0MB 2.8MB/s \n",
            "\u001b[?25h"
          ],
          "name": "stdout"
        }
      ]
    },
    {
      "cell_type": "code",
      "metadata": {
        "id": "6MZ--xFLkJIE",
        "colab_type": "code",
        "colab": {}
      },
      "source": [
        "#USE pretrained model to extract response encodings.\n",
        "import tensorflow as tf\n",
        "import tensorflow_hub as hub\n",
        "import tensorflow_text\n",
        "import re\n",
        "def preprocess_sentences(input_sentences):\n",
        "    return [re.sub(r'(covid-19|covid)', 'coronavirus', input_sentence, flags=re.I) \n",
        "            for input_sentence in input_sentences]\n",
        "        \n",
        "# Load module containing USE\n",
        "module = hub.load('https://tfhub.dev/google/universal-sentence-encoder-multilingual-qa/3')\n",
        "\n",
        "# Create response embeddings\n",
        "response_encodings = module.signatures['response_encoder'](\n",
        "        input=tf.constant(preprocess_sentences(data.Answer)),\n",
        "        context=tf.constant(preprocess_sentences(data.Context)))['outputs']\n",
        "\n"
      ],
      "execution_count": 0,
      "outputs": []
    },
    {
      "cell_type": "code",
      "metadata": {
        "id": "vEfLBmajk4F-",
        "colab_type": "code",
        "outputId": "8059d965-8236-48b8-bfcf-db1a5037d214",
        "colab": {
          "base_uri": "https://localhost:8080/",
          "height": 331
        }
      },
      "source": [
        "test_questions = [\n",
        "    \"What is corona virus?\",\n",
        "    \"What are the symptoms of COVID-19?\",\n",
        "    \"Are animals contagious COVID-19?\",\n",
        "    \"Are there medicine against the coronavirus?\",\n",
        "    \"Is there a vaccine, drug or treatment for COVID-19?\",\n",
        "    \"Is COVID-19 the same as SARS?\",\n",
        "    \"Can CoVID-19 be caught from a person who has no symptoms?\",\n",
        "    \"Should I stay inside the house?\",\n",
        "    \"Kann ich mit meinem Hund spazieren gehen?\"  #Other languages are also valid\n",
        "]\n",
        "\n",
        "# encodings for test questions\n",
        "question_encodings = module.signatures['question_encoder'](\n",
        "    tf.constant(preprocess_sentences(test_questions))\n",
        ")['outputs']\n",
        "\n",
        "# Get the responses\n",
        "test_responses = data.Answer[np.argmax(np.inner(question_encodings, response_encodings), axis=1)]\n",
        "\n",
        "# Show them in a dataframe\n",
        "pd.DataFrame({'Test Questions': test_questions, 'Test Responses': test_responses})"
      ],
      "execution_count": 0,
      "outputs": [
        {
          "output_type": "execute_result",
          "data": {
            "text/html": [
              "<div>\n",
              "<style scoped>\n",
              "    .dataframe tbody tr th:only-of-type {\n",
              "        vertical-align: middle;\n",
              "    }\n",
              "\n",
              "    .dataframe tbody tr th {\n",
              "        vertical-align: top;\n",
              "    }\n",
              "\n",
              "    .dataframe thead th {\n",
              "        text-align: right;\n",
              "    }\n",
              "</style>\n",
              "<table border=\"1\" class=\"dataframe\">\n",
              "  <thead>\n",
              "    <tr style=\"text-align: right;\">\n",
              "      <th></th>\n",
              "      <th>Test Questions</th>\n",
              "      <th>Test Responses</th>\n",
              "    </tr>\n",
              "  </thead>\n",
              "  <tbody>\n",
              "    <tr>\n",
              "      <th>45</th>\n",
              "      <td>What is corona virus?</td>\n",
              "      <td>Coronaviruses are a large family of viruses that are common in animals. Occasionally, people get...</td>\n",
              "    </tr>\n",
              "    <tr>\n",
              "      <th>11</th>\n",
              "      <td>What are the symptoms of COVID-19?</td>\n",
              "      <td>Many people with COVID-19 experience only mild symptoms. This is particularly true at the early ...</td>\n",
              "    </tr>\n",
              "    <tr>\n",
              "      <th>45</th>\n",
              "      <td>Are animals contagious COVID-19?</td>\n",
              "      <td>Coronaviruses are a large family of viruses that are common in animals. Occasionally, people get...</td>\n",
              "    </tr>\n",
              "    <tr>\n",
              "      <th>32</th>\n",
              "      <td>Are there medicine against the coronavirus?</td>\n",
              "      <td>Not yet. To date, there is no vaccine and no specific antiviral medicine to prevent or treat COV...</td>\n",
              "    </tr>\n",
              "    <tr>\n",
              "      <th>32</th>\n",
              "      <td>Is there a vaccine, drug or treatment for COVID-19?</td>\n",
              "      <td>Not yet. To date, there is no vaccine and no specific antiviral medicine to prevent or treat COV...</td>\n",
              "    </tr>\n",
              "    <tr>\n",
              "      <th>37</th>\n",
              "      <td>Is COVID-19 the same as SARS?</td>\n",
              "      <td>SARS was more deadly but much less infectious than COVID-19. There have been no outbreaks of SAR...</td>\n",
              "    </tr>\n",
              "    <tr>\n",
              "      <th>11</th>\n",
              "      <td>Can CoVID-19 be caught from a person who has no symptoms?</td>\n",
              "      <td>Many people with COVID-19 experience only mild symptoms. This is particularly true at the early ...</td>\n",
              "    </tr>\n",
              "    <tr>\n",
              "      <th>17</th>\n",
              "      <td>Should I stay inside the house?</td>\n",
              "      <td>Stay home if you feel unwell. If you have a fever, cough and difficulty breathing, seek medical ...</td>\n",
              "    </tr>\n",
              "    <tr>\n",
              "      <th>18</th>\n",
              "      <td>Kann ich mit meinem Hund spazieren gehen?</td>\n",
              "      <td>If possible, avoid traveling to places  – especially if you are an older person or have diabetes...</td>\n",
              "    </tr>\n",
              "  </tbody>\n",
              "</table>\n",
              "</div>"
            ],
            "text/plain": [
              "                                               Test Questions                                                                                       Test Responses\n",
              "45                                      What is corona virus?  Coronaviruses are a large family of viruses that are common in animals. Occasionally, people get...\n",
              "11                         What are the symptoms of COVID-19?  Many people with COVID-19 experience only mild symptoms. This is particularly true at the early ...\n",
              "45                           Are animals contagious COVID-19?  Coronaviruses are a large family of viruses that are common in animals. Occasionally, people get...\n",
              "32                Are there medicine against the coronavirus?  Not yet. To date, there is no vaccine and no specific antiviral medicine to prevent or treat COV...\n",
              "32        Is there a vaccine, drug or treatment for COVID-19?  Not yet. To date, there is no vaccine and no specific antiviral medicine to prevent or treat COV...\n",
              "37                              Is COVID-19 the same as SARS?  SARS was more deadly but much less infectious than COVID-19. There have been no outbreaks of SAR...\n",
              "11  Can CoVID-19 be caught from a person who has no symptoms?  Many people with COVID-19 experience only mild symptoms. This is particularly true at the early ...\n",
              "17                            Should I stay inside the house?  Stay home if you feel unwell. If you have a fever, cough and difficulty breathing, seek medical ...\n",
              "18                  Kann ich mit meinem Hund spazieren gehen?  If possible, avoid traveling to places  – especially if you are an older person or have diabetes..."
            ]
          },
          "metadata": {
            "tags": []
          },
          "execution_count": 8
        }
      ]
    }
  ]
}